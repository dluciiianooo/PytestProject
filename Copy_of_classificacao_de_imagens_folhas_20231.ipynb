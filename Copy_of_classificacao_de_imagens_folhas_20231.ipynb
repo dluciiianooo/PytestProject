{
  "nbformat": 4,
  "nbformat_minor": 0,
  "metadata": {
    "colab": {
      "provenance": [],
      "include_colab_link": true
    },
    "kernelspec": {
      "name": "python3",
      "display_name": "Python 3"
    },
    "language_info": {
      "name": "python"
    }
  },
  "cells": [
    {
      "cell_type": "markdown",
      "metadata": {
        "id": "view-in-github",
        "colab_type": "text"
      },
      "source": [
        "<a href=\"https://colab.research.google.com/github/dluciiianooo/PytestProject/blob/main/Copy_of_classificacao_de_imagens_folhas_20231.ipynb\" target=\"_parent\"><img src=\"https://colab.research.google.com/assets/colab-badge.svg\" alt=\"Open In Colab\"/></a>"
      ]
    },
    {
      "cell_type": "markdown",
      "metadata": {
        "id": "0-t3Hyqo7rVR"
      },
      "source": [
        "<h1>Classificador de imagens de folhas</h1>\n",
        "<p>Neste documento, foram treinados 3 modelos de aprendizado de máquina que tentam detectar o tipo de folhas que são apresentadas em imagens. Um dos modelos usa o algoritmo de regressão logística (logistic regression). Outro usa um algoritmo de rede neural (neural network multi-layer perceptron). E o terceiro modelo usa o algoritmo random forest (floresta aleatória). Para treinar e testar os modelos, foram usadas imagens de folhas na resolução de 256 x 256 pixels.</p>\n",
        "<p><b>Qual dos modelos treinados terá o melhor desempenho em detectar o tipo de folhas em imagens?</b></p>"
      ]
    },
    {
      "cell_type": "markdown",
      "metadata": {
        "id": "9Yv4bj-N6mI5"
      },
      "source": [
        "Primeiramente, são carregadas as bibliotecas Python necessárias."
      ]
    },
    {
      "cell_type": "code",
      "metadata": {
        "id": "_1EAUZ9m7nBX"
      },
      "source": [
        "import numpy as np  # Numpy é um pacote para a linguagem Python que suporta arrays e matrizes multidimensionais e uma larga coleção de funções para trabalhar com estas estruturas.\n",
        "import os, os.path  # módulo com funções para usar funcionalidades dependentes do sistema operacional, como acessar arquivos de um diretório.\n",
        "import cv2 # módulo da biblioteca OPenCV para trabalhar com visão computacional, no caso deste documento, a leitura de imagens.\n",
        "from google.colab.patches import cv2_imshow  # módulo para exibição de imagens.\n",
        "from sklearn.model_selection import train_test_split # módulo com funções para dividir as amostras em amostras de treino e de teste.\n",
        "from sklearn.neural_network import MLPClassifier # módulo que contém um algoritmo de rede neural (multi-layer perceptron).\n",
        "from sklearn.linear_model import LogisticRegression # módulo que contém o algoritmo de regressão logística.\n",
        "from sklearn.metrics import accuracy_score # módulo que contém funções que verificam a acurácia (desempenho) dos modelos.\n",
        "from sklearn import preprocessing # módulo que contém funções de preprocessamento, como o dimensionamento (scalling) das features.\n",
        "from sklearn.ensemble import RandomForestClassifier"
      ],
      "execution_count": 624,
      "outputs": []
    },
    {
      "cell_type": "markdown",
      "metadata": {
        "id": "pDAAsIgoA8YR"
      },
      "source": [
        "Conecta à uma conta do Google Drive que armazena as imagens utilizadas no treinamento e teste dos modelos."
      ]
    },
    {
      "cell_type": "code",
      "metadata": {
        "colab": {
          "base_uri": "https://localhost:8080/"
        },
        "id": "iCBsJlIvrQ7Z",
        "outputId": "24e88090-5909-48b7-fff7-ee87e63faa1e"
      },
      "source": [
        "from google.colab import drive\n",
        "drive.mount('/content/gdrive')"
      ],
      "execution_count": 625,
      "outputs": [
        {
          "output_type": "stream",
          "name": "stdout",
          "text": [
            "Drive already mounted at /content/gdrive; to attempt to forcibly remount, call drive.mount(\"/content/gdrive\", force_remount=True).\n"
          ]
        }
      ]
    },
    {
      "cell_type": "markdown",
      "metadata": {
        "id": "9VNviWRfXBaR"
      },
      "source": [
        "Carrega uma das fotos armazenadas no Google Drive, apenas como exemplo para compreendermos as características (features) de uma imagem de folha. É salvo na variável imagem_exemplo um array do NumPy que contém as cores de cada pixel da imagem."
      ]
    },
    {
      "cell_type": "code",
      "metadata": {
        "id": "GrqbgUoBKvtA"
      },
      "source": [
        "imagem_exemplo = cv2.imread(\"gdrive/MyDrive/Classroom/imagens/MOVEIS/cadeira1.jpg\")"
      ],
      "execution_count": 626,
      "outputs": []
    },
    {
      "cell_type": "markdown",
      "metadata": {
        "id": "zcmNborkC5y7"
      },
      "source": [
        "Exibe o formato do array NumPy que contém a imagem carregada. Veja que é um array de 3 dimensões (linha X coluna X cor RGB). São 256 linhas, 256 colunas e mistura para 3 cores (RGB)."
      ]
    },
    {
      "cell_type": "code",
      "metadata": {
        "colab": {
          "base_uri": "https://localhost:8080/"
        },
        "id": "7Hc8GTxcC0gm",
        "outputId": "8aa2b298-b925-429c-a981-0bb3ca7224f1"
      },
      "source": [
        "imagem_exemplo.shape"
      ],
      "execution_count": 627,
      "outputs": [
        {
          "output_type": "execute_result",
          "data": {
            "text/plain": [
              "(256, 256, 3)"
            ]
          },
          "metadata": {},
          "execution_count": 627
        }
      ]
    },
    {
      "cell_type": "markdown",
      "metadata": {
        "id": "xmm5osECB_fd"
      },
      "source": [
        "Exibe o array numpy que contém a imagem carregada"
      ]
    },
    {
      "cell_type": "code",
      "metadata": {
        "colab": {
          "base_uri": "https://localhost:8080/"
        },
        "id": "RtlCHFyJBpBY",
        "outputId": "9fbc3cc1-750e-42d8-e795-891ad95073c6"
      },
      "source": [
        "print(imagem_exemplo)"
      ],
      "execution_count": 628,
      "outputs": [
        {
          "output_type": "stream",
          "name": "stdout",
          "text": [
            "[[[255 255 255]\n",
            "  [255 255 255]\n",
            "  [255 255 255]\n",
            "  ...\n",
            "  [255 255 255]\n",
            "  [255 255 255]\n",
            "  [255 255 255]]\n",
            "\n",
            " [[255 255 255]\n",
            "  [255 255 255]\n",
            "  [255 255 255]\n",
            "  ...\n",
            "  [255 255 255]\n",
            "  [255 255 255]\n",
            "  [255 255 255]]\n",
            "\n",
            " [[255 255 255]\n",
            "  [255 255 255]\n",
            "  [255 255 255]\n",
            "  ...\n",
            "  [255 255 255]\n",
            "  [255 255 255]\n",
            "  [255 255 255]]\n",
            "\n",
            " ...\n",
            "\n",
            " [[255 255 255]\n",
            "  [255 255 255]\n",
            "  [255 255 255]\n",
            "  ...\n",
            "  [255 255 255]\n",
            "  [255 255 255]\n",
            "  [255 255 255]]\n",
            "\n",
            " [[255 255 255]\n",
            "  [255 255 255]\n",
            "  [255 255 255]\n",
            "  ...\n",
            "  [255 255 255]\n",
            "  [255 255 255]\n",
            "  [255 255 255]]\n",
            "\n",
            " [[255 255 255]\n",
            "  [255 255 255]\n",
            "  [255 255 255]\n",
            "  ...\n",
            "  [255 255 255]\n",
            "  [255 255 255]\n",
            "  [255 255 255]]]\n"
          ]
        }
      ]
    },
    {
      "cell_type": "markdown",
      "metadata": {
        "id": "8Rh6lsPTXJfr"
      },
      "source": [
        "Exibe a imagem carregada."
      ]
    },
    {
      "cell_type": "code",
      "metadata": {
        "colab": {
          "base_uri": "https://localhost:8080/",
          "height": 273
        },
        "id": "qXbOFI3_QOSV",
        "outputId": "7fc87d4c-f988-4613-ef40-e33d138f51c6"
      },
      "source": [
        "cv2_imshow(imagem_exemplo)"
      ],
      "execution_count": 629,
      "outputs": [
        {
          "output_type": "display_data",
          "data": {
            "text/plain": [
              "<PIL.Image.Image image mode=RGB size=256x256 at 0x7FC192546B90>"
            ],
            "image/png": "[encoded data removed]"
          },
          "metadata": {}
        }
      ]
    },
    {
      "cell_type": "markdown",
      "metadata": {
        "id": "HF6p8cArG8VI"
      },
      "source": [
        "Tranforma o array NumPy de três dimensões (3D) para 1 dimensão (1D)"
      ]
    },
    {
      "cell_type": "code",
      "metadata": {
        "colab": {
          "base_uri": "https://localhost:8080/"
        },
        "id": "rOsMGaM1emxL",
        "outputId": "d87a9322-4ef8-44ab-a9bd-1ae43fe497de"
      },
      "source": [
        "imagem_exemplo = imagem_exemplo.reshape(-1)\n",
        "imagem_exemplo.shape"
      ],
      "execution_count": 630,
      "outputs": [
        {
          "output_type": "execute_result",
          "data": {
            "text/plain": [
              "(196608,)"
            ]
          },
          "metadata": {},
          "execution_count": 630
        }
      ]
    },
    {
      "cell_type": "markdown",
      "source": [
        "Exibe o total de características (pixels) das imagens."
      ],
      "metadata": {
        "id": "nIsGAXIpOhYZ"
      }
    },
    {
      "cell_type": "code",
      "source": [
        "total_características = imagem_exemplo.shape[0];\n",
        "print(total_características)"
      ],
      "metadata": {
        "colab": {
          "base_uri": "https://localhost:8080/"
        },
        "id": "pi0qrXtQOWGF",
        "outputId": "2b61e7ff-a4f9-475a-ce5b-9b91a4de6cf8"
      },
      "execution_count": 631,
      "outputs": [
        {
          "output_type": "stream",
          "name": "stdout",
          "text": [
            "196608\n"
          ]
        }
      ]
    },
    {
      "cell_type": "markdown",
      "source": [
        "Exibe o novo array NumPy de 1 dimensão."
      ],
      "metadata": {
        "id": "IftgZJefNkyp"
      }
    },
    {
      "cell_type": "code",
      "metadata": {
        "colab": {
          "base_uri": "https://localhost:8080/"
        },
        "id": "PZijRHvxHCrn",
        "outputId": "ce2f83df-9ec8-4599-9ee9-0f92f725ae98"
      },
      "source": [
        "print(imagem_exemplo)"
      ],
      "execution_count": 632,
      "outputs": [
        {
          "output_type": "stream",
          "name": "stdout",
          "text": [
            "[255 255 255 ... 255 255 255]\n"
          ]
        }
      ]
    },
    {
      "cell_type": "markdown",
      "metadata": {
        "id": "e1gr2Mp4HTtH"
      },
      "source": [
        "A imagem carregada anteriormente foi apenas um exemplo para vermos as características de uma imagem. Agora iremos carregar do Google Drive todas as imagens, as quais chamaremos de AMOSTRAS. Estas amostras serão usadas no treinamento (70%) e nos testes (30%) dos modelos."
      ]
    },
    {
      "cell_type": "code",
      "metadata": {
        "id": "Zg5EtkRdKxDH"
      },
      "source": [
        "path = \"gdrive/MyDrive/Classroom/imagens/MOVEIS/\" # guarda em uma variável o caminho (path) do diretório dos arquivos\n",
        "arquivos = os.listdir(path)   # lê todos os arquivos do diretório e cria uma lista (list) com todos os nomes dos arquivos encontrados no diretório"
      ],
      "execution_count": 633,
      "outputs": []
    },
    {
      "cell_type": "markdown",
      "metadata": {
        "id": "n_atRtkmH4vl"
      },
      "source": [
        "Exibe a lista com os nomes dos arquivos"
      ]
    },
    {
      "cell_type": "code",
      "metadata": {
        "colab": {
          "base_uri": "https://localhost:8080/"
        },
        "id": "yf738mJuMCfF",
        "outputId": "4c2fe76f-46a5-4e33-878f-f5d1965e1260"
      },
      "source": [
        "arquivos"
      ],
      "execution_count": 634,
      "outputs": [
        {
          "output_type": "execute_result",
          "data": {
            "text/plain": [
              "['sofa11.jpg',\n",
              " 'mesa11.jpg',\n",
              " 'cadeira7.jpg',\n",
              " 'cadeira2.jpg',\n",
              " 'cadeira9.jpg',\n",
              " 'cadeira1.jpg',\n",
              " 'cadeira6.jpg',\n",
              " 'cadeira8.jpg',\n",
              " 'cadeira3.jpg',\n",
              " 'cadeira5.jpg',\n",
              " 'cadeira4.jpg',\n",
              " 'cadeira10.jpg',\n",
              " 'mesa2.jpg',\n",
              " 'mesa1.jpg',\n",
              " 'mesa10.jpg',\n",
              " 'mesa7.jpg',\n",
              " 'mesa6.jpg',\n",
              " 'mesa8.jpg',\n",
              " 'mesa9.jpg',\n",
              " 'mesa3.jpg',\n",
              " 'mesa5.jpg',\n",
              " 'mesa4.jpg',\n",
              " 'sofa4.jpg',\n",
              " 'sofa8.jpg',\n",
              " 'sofa7.jpg',\n",
              " 'sofa9.jpg',\n",
              " 'sofa1.jpg',\n",
              " 'sofa2.jpg',\n",
              " 'sofa10.jpg',\n",
              " 'sofa5.jpg',\n",
              " 'sofa3.jpg',\n",
              " 'sofa6.jpg',\n",
              " 'sofa.15.jpg',\n",
              " 'mesa.12.jpg',\n",
              " 'sofa.12.jpg',\n",
              " 'cadeira.13.jpg',\n",
              " 'sofa.17.jpg',\n",
              " 'sofa.14.jpg',\n",
              " 'cadeira.12.jpg',\n",
              " 'sofa.13.jpg',\n",
              " 'mesa.13.jpg',\n",
              " 'sofa.16.jpg']"
            ]
          },
          "metadata": {},
          "execution_count": 634
        }
      ]
    },
    {
      "cell_type": "markdown",
      "metadata": {
        "id": "5We6TlGQH-JU"
      },
      "source": [
        "Exibe a quantidade total de arquivos encontrados"
      ]
    },
    {
      "cell_type": "code",
      "metadata": {
        "colab": {
          "base_uri": "https://localhost:8080/"
        },
        "id": "ORxRGVYUNgyg",
        "outputId": "2f917bd5-368d-4820-82d8-2c797f5ae0e5"
      },
      "source": [
        "quantidade_total = len(arquivos)\n",
        "print(\"Quantidade total de amostras: \" + str(quantidade_total))"
      ],
      "execution_count": 635,
      "outputs": [
        {
          "output_type": "stream",
          "name": "stdout",
          "text": [
            "Quantidade total de amostras: 42\n"
          ]
        }
      ]
    },
    {
      "cell_type": "markdown",
      "metadata": {
        "id": "EtU1aWNRJgij"
      },
      "source": [
        "Cria duas listas, uma para as amostras (X) e a outra para as classes (y)."
      ]
    },
    {
      "cell_type": "code",
      "metadata": {
        "id": "7wV3QRPje72G"
      },
      "source": [
        "X = np.zeros((quantidade_total, total_características))\n",
        "y = np.empty((quantidade_total), dtype = object)"
      ],
      "execution_count": 636,
      "outputs": []
    },
    {
      "cell_type": "markdown",
      "metadata": {
        "id": "Lm9tmSVAKeo1"
      },
      "source": [
        "Carrega a lista X com as amostras e a lista y com as classes. As classes são \"acalifa\", \"bergamoteira\", \"goiabeira\" e \"platano\"."
      ]
    },
    {
      "cell_type": "code",
      "metadata": {
        "id": "dXJBbxZSXm7S"
      },
      "source": [
        "contador = 0\n",
        "for arquivo in arquivos:\n",
        "  imagem_em_3d = cv2.imread(path + arquivo)\n",
        "  imagem_em_1d = imagem_em_3d.reshape(-1)\n",
        "  if \"MOVEIS\" in arquivo: classe = \"MOVEIS\"\n",
        "  elif \"cadeira\" in arquivo: classe = \"cadeira\"\n",
        "  elif \"sofa\" in arquivo: classe = \"sofa\"\n",
        "  elif \"mesa\" in arquivo: classe = \"mesa\"\n",
        "  X[contador] = imagem_em_1d\n",
        "  y[contador] = classe\n",
        "  contador += 1"
      ],
      "execution_count": 637,
      "outputs": []
    },
    {
      "cell_type": "markdown",
      "metadata": {
        "id": "ipZKxmM-LSRr"
      },
      "source": [
        "Exibe o formato da lista de amostras (X)"
      ]
    },
    {
      "cell_type": "code",
      "metadata": {
        "colab": {
          "base_uri": "https://localhost:8080/"
        },
        "id": "sc2LurCwYoSK",
        "outputId": "d9c57052-2c8b-46c5-8070-6dd620d42ecf"
      },
      "source": [
        "X.shape"
      ],
      "execution_count": 638,
      "outputs": [
        {
          "output_type": "execute_result",
          "data": {
            "text/plain": [
              "(42, 196608)"
            ]
          },
          "metadata": {},
          "execution_count": 638
        }
      ]
    },
    {
      "cell_type": "markdown",
      "metadata": {
        "id": "5WbjdnQQKmvh"
      },
      "source": [
        "Exibe a lista com as amostras (X)"
      ]
    },
    {
      "cell_type": "code",
      "metadata": {
        "colab": {
          "base_uri": "https://localhost:8080/"
        },
        "id": "3kMeSHK-QXem",
        "outputId": "3ed3ea9f-03c1-41a3-a5b4-6358d43b24d3"
      },
      "source": [
        "print(X)"
      ],
      "execution_count": 639,
      "outputs": [
        {
          "output_type": "stream",
          "name": "stdout",
          "text": [
            "[[255. 255. 255. ... 255. 255. 255.]\n",
            " [255. 255. 255. ... 255. 255. 255.]\n",
            " [255. 255. 255. ... 255. 255. 255.]\n",
            " ...\n",
            " [255. 255. 255. ... 255. 255. 255.]\n",
            " [255. 255. 255. ... 255. 255. 255.]\n",
            " [255. 255. 255. ... 255. 255. 255.]]\n"
          ]
        }
      ]
    },
    {
      "cell_type": "markdown",
      "metadata": {
        "id": "92QYOHX3LWbl"
      },
      "source": [
        "Exibe o formato da lista de classes (y)"
      ]
    },
    {
      "cell_type": "code",
      "metadata": {
        "colab": {
          "base_uri": "https://localhost:8080/"
        },
        "id": "Gnd5sNah1vFq",
        "outputId": "f273a89c-308e-4817-c5c9-8c94a3d58503"
      },
      "source": [
        "y.shape"
      ],
      "execution_count": 640,
      "outputs": [
        {
          "output_type": "execute_result",
          "data": {
            "text/plain": [
              "(42,)"
            ]
          },
          "metadata": {},
          "execution_count": 640
        }
      ]
    },
    {
      "cell_type": "markdown",
      "metadata": {
        "id": "rlHl-rWZKp0K"
      },
      "source": [
        "Exibe a lista com as classes"
      ]
    },
    {
      "cell_type": "code",
      "metadata": {
        "colab": {
          "base_uri": "https://localhost:8080/"
        },
        "id": "YAhBy_XWPLbN",
        "outputId": "5fb92710-1997-4b56-fb86-132e20cba4f1"
      },
      "source": [
        "print(y)"
      ],
      "execution_count": 641,
      "outputs": [
        {
          "output_type": "stream",
          "name": "stdout",
          "text": [
            "['sofa' 'mesa' 'cadeira' 'cadeira' 'cadeira' 'cadeira' 'cadeira' 'cadeira'\n",
            " 'cadeira' 'cadeira' 'cadeira' 'cadeira' 'mesa' 'mesa' 'mesa' 'mesa'\n",
            " 'mesa' 'mesa' 'mesa' 'mesa' 'mesa' 'mesa' 'sofa' 'sofa' 'sofa' 'sofa'\n",
            " 'sofa' 'sofa' 'sofa' 'sofa' 'sofa' 'sofa' 'sofa' 'mesa' 'sofa' 'cadeira'\n",
            " 'sofa' 'sofa' 'cadeira' 'sofa' 'mesa' 'sofa']\n"
          ]
        }
      ]
    },
    {
      "cell_type": "markdown",
      "metadata": {
        "id": "v7Hf35pKLBKh"
      },
      "source": [
        "Calcula e exibe a quantidade de cada classe"
      ]
    },
    {
      "cell_type": "code",
      "metadata": {
        "colab": {
          "base_uri": "https://localhost:8080/"
        },
        "id": "tAd9Tuq3d3RD",
        "outputId": "b5aaf03e-c245-46dd-b1e9-b427d55f06c3"
      },
      "source": [
        "quantidade_cadeira = (y == 'cadeira').sum()\n",
        "quantidade_sofa = (y == 'sofa').sum()\n",
        "quantidade_mesa = (y == 'mesa').sum()\n",
        "\n",
        "print(\"Quantidade de amostras de treino de cadeira: \" + str(quantidade_cadeira))\n",
        "print(\"Quantidade de amostras de treino de sofa: \" + str(quantidade_sofa))\n",
        "print(\"Quantidade de amostras de treino de mesa: \" + str(quantidade_mesa))\n",
        "print(\"Quantidade total de amostras de treino: \" + str(quantidade_total))"
      ],
      "execution_count": 642,
      "outputs": [
        {
          "output_type": "stream",
          "name": "stdout",
          "text": [
            "Quantidade de amostras de treino de cadeira: 12\n",
            "Quantidade de amostras de treino de sofa: 17\n",
            "Quantidade de amostras de treino de mesa: 13\n",
            "Quantidade total de amostras de treino: 42\n"
          ]
        }
      ]
    },
    {
      "cell_type": "markdown",
      "metadata": {
        "id": "rXto3tvALtbc"
      },
      "source": [
        "Redimensiona (scalling) as características (features) das amostras. Com o redimensionamento, ao invés do número de cor ser um valor entre 0 e 255, será um valor dentro de um intervalo menor, entre -1 e 1. Segundo a literatura, esse redimensionamento ajuda no desempenho dos modelos de classificação."
      ]
    },
    {
      "cell_type": "code",
      "metadata": {
        "id": "k5kScSgNQxlc"
      },
      "source": [
        "scaler = preprocessing.StandardScaler().fit(X)\n",
        "X_redimensionado = scaler.transform(X)"
      ],
      "execution_count": 643,
      "outputs": []
    },
    {
      "cell_type": "markdown",
      "metadata": {
        "id": "zmYK3Hf-MHut"
      },
      "source": [
        "Exibe a lista com as amostras, após o redimensionamento"
      ]
    },
    {
      "cell_type": "code",
      "metadata": {
        "colab": {
          "base_uri": "https://localhost:8080/"
        },
        "id": "2T1qpJk3MPg7",
        "outputId": "967dd126-e105-47b7-a205-8aac660a4098"
      },
      "source": [
        "print(X_redimensionado)"
      ],
      "execution_count": 644,
      "outputs": [
        {
          "output_type": "stream",
          "name": "stdout",
          "text": [
            "[[0.         0.         0.         ... 0.15617376 0.15617376 0.15617376]\n",
            " [0.         0.         0.         ... 0.15617376 0.15617376 0.15617376]\n",
            " [0.         0.         0.         ... 0.15617376 0.15617376 0.15617376]\n",
            " ...\n",
            " [0.         0.         0.         ... 0.15617376 0.15617376 0.15617376]\n",
            " [0.         0.         0.         ... 0.15617376 0.15617376 0.15617376]\n",
            " [0.         0.         0.         ... 0.15617376 0.15617376 0.15617376]]\n"
          ]
        }
      ]
    },
    {
      "cell_type": "markdown",
      "metadata": {
        "id": "qX5BDWr9MtxH"
      },
      "source": [
        "Divide as amostras e as classes em amostras de treino (70%) e amostras de teste (30%)"
      ]
    },
    {
      "cell_type": "code",
      "metadata": {
        "id": "0X3Ayz3aWCOi"
      },
      "source": [
        "X_treino, X_teste, y_treino, y_teste = train_test_split(X_redimensionado, y, test_size = 0.30)"
      ],
      "execution_count": 645,
      "outputs": []
    },
    {
      "cell_type": "markdown",
      "metadata": {
        "id": "qrOEbnyURCS3"
      },
      "source": [
        "Exibe o formato e as amostras de treino"
      ]
    },
    {
      "cell_type": "code",
      "metadata": {
        "colab": {
          "base_uri": "https://localhost:8080/"
        },
        "id": "82MJqhPQRA06",
        "outputId": "f09abc44-921d-4eab-a2f6-c5f600cac498"
      },
      "source": [
        "print(X_treino.shape)\n",
        "print(X_treino)"
      ],
      "execution_count": 646,
      "outputs": [
        {
          "output_type": "stream",
          "name": "stdout",
          "text": [
            "(29, 196608)\n",
            "[[0.         0.         0.         ... 0.15617376 0.15617376 0.15617376]\n",
            " [0.         0.         0.         ... 0.15617376 0.15617376 0.15617376]\n",
            " [0.         0.         0.         ... 0.15617376 0.15617376 0.15617376]\n",
            " ...\n",
            " [0.         0.         0.         ... 0.15617376 0.15617376 0.15617376]\n",
            " [0.         0.         0.         ... 0.15617376 0.15617376 0.15617376]\n",
            " [0.         0.         0.         ... 0.15617376 0.15617376 0.15617376]]\n"
          ]
        }
      ]
    },
    {
      "cell_type": "markdown",
      "metadata": {
        "id": "5CMpaDG3RuwB"
      },
      "source": [
        "Exibe o formato e as classes de treino"
      ]
    },
    {
      "cell_type": "code",
      "metadata": {
        "colab": {
          "base_uri": "https://localhost:8080/"
        },
        "id": "Fm11GsT2Rw7f",
        "outputId": "0a8fd2f6-2651-46c3-f36e-bae8315bbbe8"
      },
      "source": [
        "print(y_treino.shape)\n",
        "print(y_treino)"
      ],
      "execution_count": 647,
      "outputs": [
        {
          "output_type": "stream",
          "name": "stdout",
          "text": [
            "(29,)\n",
            "['mesa' 'mesa' 'mesa' 'cadeira' 'cadeira' 'cadeira' 'cadeira' 'sofa'\n",
            " 'cadeira' 'mesa' 'cadeira' 'mesa' 'sofa' 'mesa' 'sofa' 'mesa' 'mesa'\n",
            " 'sofa' 'mesa' 'sofa' 'mesa' 'mesa' 'sofa' 'sofa' 'cadeira' 'sofa'\n",
            " 'cadeira' 'sofa' 'sofa']\n"
          ]
        }
      ]
    },
    {
      "cell_type": "markdown",
      "metadata": {
        "id": "OYUWAixpR0HM"
      },
      "source": [
        "Exibe o formato e as amostras de teste"
      ]
    },
    {
      "cell_type": "code",
      "metadata": {
        "colab": {
          "base_uri": "https://localhost:8080/"
        },
        "id": "eIZXztreSIDZ",
        "outputId": "0649e877-575a-43a3-b465-62ff12705f67"
      },
      "source": [
        "print(X_teste.shape)\n",
        "print(X_teste)"
      ],
      "execution_count": 648,
      "outputs": [
        {
          "output_type": "stream",
          "name": "stdout",
          "text": [
            "(13, 196608)\n",
            "[[0.         0.         0.         ... 0.15617376 0.15617376 0.15617376]\n",
            " [0.         0.         0.         ... 0.15617376 0.15617376 0.15617376]\n",
            " [0.         0.         0.         ... 0.15617376 0.15617376 0.15617376]\n",
            " ...\n",
            " [0.         0.         0.         ... 0.15617376 0.15617376 0.15617376]\n",
            " [0.         0.         0.         ... 0.15617376 0.15617376 0.15617376]\n",
            " [0.         0.         0.         ... 0.15617376 0.15617376 0.15617376]]\n"
          ]
        }
      ]
    },
    {
      "cell_type": "markdown",
      "metadata": {
        "id": "UB6oDsJgSM4K"
      },
      "source": [
        "Exibe o formato e as classes de treino"
      ]
    },
    {
      "cell_type": "code",
      "metadata": {
        "colab": {
          "base_uri": "https://localhost:8080/"
        },
        "id": "J9bp94V0SP_M",
        "outputId": "47eca8b8-58c8-4e25-a936-e1dd18589c1e"
      },
      "source": [
        "print(y_teste.shape)\n",
        "print(y_teste)"
      ],
      "execution_count": 649,
      "outputs": [
        {
          "output_type": "stream",
          "name": "stdout",
          "text": [
            "(13,)\n",
            "['sofa' 'mesa' 'sofa' 'sofa' 'sofa' 'sofa' 'sofa' 'mesa' 'cadeira'\n",
            " 'cadeira' 'sofa' 'cadeira' 'cadeira']\n"
          ]
        }
      ]
    },
    {
      "cell_type": "markdown",
      "metadata": {
        "id": "wk1vAdZqSYQL"
      },
      "source": [
        "Mostra a quantidade de amostras de treino e de amostras de teste"
      ]
    },
    {
      "cell_type": "code",
      "metadata": {
        "colab": {
          "base_uri": "https://localhost:8080/"
        },
        "id": "NvXOxsVWWuYi",
        "outputId": "31ce1b08-21b7-4f4c-d086-0c0dc764185d"
      },
      "source": [
        "print(\"Quantidade de amostras de treino: \" + str(len(X_treino)))\n",
        "print(\"Quantidade de amostras de teste: \" + str(len(X_teste)))"
      ],
      "execution_count": 650,
      "outputs": [
        {
          "output_type": "stream",
          "name": "stdout",
          "text": [
            "Quantidade de amostras de treino: 29\n",
            "Quantidade de amostras de teste: 13\n"
          ]
        }
      ]
    },
    {
      "cell_type": "markdown",
      "metadata": {
        "id": "q2891UIwWGuB"
      },
      "source": [
        "<h1>Modelo com algoritmo de Regressão Logística (Logistic Regression)</h1>\n",
        "<p>Documentação: https://scikit-learn.org/stable/modules/generated/sklearn.linear_model.LogisticRegression.html</p>"
      ]
    },
    {
      "cell_type": "markdown",
      "metadata": {
        "id": "xWkkpi7CScbb"
      },
      "source": [
        "Cria uma modelo de classificação multi-classes com o algoritmo de Regressão Logística com 1000 iterações (o modelo irá olhar, no máximo 1000, vezes para cada amostra e classe de treinamento)."
      ]
    },
    {
      "cell_type": "code",
      "metadata": {
        "id": "5BTMFL-PQkn0"
      },
      "source": [
        "modelo_lg = LogisticRegression(solver='lbfgs', multi_class='ovr', max_iter=1000)"
      ],
      "execution_count": 651,
      "outputs": []
    },
    {
      "cell_type": "markdown",
      "metadata": {
        "id": "hfl3oNZVS01e"
      },
      "source": [
        "Executa a função de treinamento (fit). O MODELO É <b>TREINADO</b> a partir das amostras de treino e classes de treino."
      ]
    },
    {
      "cell_type": "code",
      "metadata": {
        "colab": {
          "base_uri": "https://localhost:8080/",
          "height": 75
        },
        "id": "F34zcVaC2ICh",
        "outputId": "c4e22360-d2e6-4b38-dbdb-e6668165e8cb"
      },
      "source": [
        "modelo_lg.fit(X_treino, y_treino)"
      ],
      "execution_count": 652,
      "outputs": [
        {
          "output_type": "execute_result",
          "data": {
            "text/plain": [
              "LogisticRegression(max_iter=1000, multi_class='ovr')"
            ],
            "text/html": [
              "<style>#sk-container-id-36 {color: black;background-color: white;}#sk-container-id-36 pre{padding: 0;}#sk-container-id-36 div.sk-toggleable {background-color: white;}#sk-container-id-36 label.sk-toggleable__label {cursor: pointer;display: block;width: 100%;margin-bottom: 0;padding: 0.3em;box-sizing: border-box;text-align: center;}#sk-container-id-36 label.sk-toggleable__label-arrow:before {content: \"▸\";float: left;margin-right: 0.25em;color: #696969;}#sk-container-id-36 label.sk-toggleable__label-arrow:hover:before {color: black;}#sk-container-id-36 div.sk-estimator:hover label.sk-toggleable__label-arrow:before {color: black;}#sk-container-id-36 div.sk-toggleable__content {max-height: 0;max-width: 0;overflow: hidden;text-align: left;background-color: #f0f8ff;}#sk-container-id-36 div.sk-toggleable__content pre {margin: 0.2em;color: black;border-radius: 0.25em;background-color: #f0f8ff;}#sk-container-id-36 input.sk-toggleable__control:checked~div.sk-toggleable__content {max-height: 200px;max-width: 100%;overflow: auto;}#sk-container-id-36 input.sk-toggleable__control:checked~label.sk-toggleable__label-arrow:before {content: \"▾\";}#sk-container-id-36 div.sk-estimator input.sk-toggleable__control:checked~label.sk-toggleable__label {background-color: #d4ebff;}#sk-container-id-36 div.sk-label input.sk-toggleable__control:checked~label.sk-toggleable__label {background-color: #d4ebff;}#sk-container-id-36 input.sk-hidden--visually {border: 0;clip: rect(1px 1px 1px 1px);clip: rect(1px, 1px, 1px, 1px);height: 1px;margin: -1px;overflow: hidden;padding: 0;position: absolute;width: 1px;}#sk-container-id-36 div.sk-estimator {font-family: monospace;background-color: #f0f8ff;border: 1px dotted black;border-radius: 0.25em;box-sizing: border-box;margin-bottom: 0.5em;}#sk-container-id-36 div.sk-estimator:hover {background-color: #d4ebff;}#sk-container-id-36 div.sk-parallel-item::after {content: \"\";width: 100%;border-bottom: 1px solid gray;flex-grow: 1;}#sk-container-id-36 div.sk-label:hover label.sk-toggleable__label {background-color: #d4ebff;}#sk-container-id-36 div.sk-serial::before {content: \"\";position: absolute;border-left: 1px solid gray;box-sizing: border-box;top: 0;bottom: 0;left: 50%;z-index: 0;}#sk-container-id-36 div.sk-serial {display: flex;flex-direction: column;align-items: center;background-color: white;padding-right: 0.2em;padding-left: 0.2em;position: relative;}#sk-container-id-36 div.sk-item {position: relative;z-index: 1;}#sk-container-id-36 div.sk-parallel {display: flex;align-items: stretch;justify-content: center;background-color: white;position: relative;}#sk-container-id-36 div.sk-item::before, #sk-container-id-36 div.sk-parallel-item::before {content: \"\";position: absolute;border-left: 1px solid gray;box-sizing: border-box;top: 0;bottom: 0;left: 50%;z-index: -1;}#sk-container-id-36 div.sk-parallel-item {display: flex;flex-direction: column;z-index: 1;position: relative;background-color: white;}#sk-container-id-36 div.sk-parallel-item:first-child::after {align-self: flex-end;width: 50%;}#sk-container-id-36 div.sk-parallel-item:last-child::after {align-self: flex-start;width: 50%;}#sk-container-id-36 div.sk-parallel-item:only-child::after {width: 0;}#sk-container-id-36 div.sk-dashed-wrapped {border: 1px dashed gray;margin: 0 0.4em 0.5em 0.4em;box-sizing: border-box;padding-bottom: 0.4em;background-color: white;}#sk-container-id-36 div.sk-label label {font-family: monospace;font-weight: bold;display: inline-block;line-height: 1.2em;}#sk-container-id-36 div.sk-label-container {text-align: center;}#sk-container-id-36 div.sk-container {/* jupyter's `normalize.less` sets `[hidden] { display: none; }` but bootstrap.min.css set `[hidden] { display: none !important; }` so we also need the `!important` here to be able to override the default hidden behavior on the sphinx rendered scikit-learn.org. See: https://github.com/scikit-learn/scikit-learn/issues/21755 */display: inline-block !important;position: relative;}#sk-container-id-36 div.sk-text-repr-fallback {display: none;}</style><div id=\"sk-container-id-36\" class=\"sk-top-container\"><div class=\"sk-text-repr-fallback\"><pre>LogisticRegression(max_iter=1000, multi_class=&#x27;ovr&#x27;)</pre><b>In a Jupyter environment, please rerun this cell to show the HTML representation or trust the notebook. <br />On GitHub, the HTML representation is unable to render, please try loading this page with nbviewer.org.</b></div><div class=\"sk-container\" hidden><div class=\"sk-item\"><div class=\"sk-estimator sk-toggleable\"><input class=\"sk-toggleable__control sk-hidden--visually\" id=\"sk-estimator-id-36\" type=\"checkbox\" checked><label for=\"sk-estimator-id-36\" class=\"sk-toggleable__label sk-toggleable__label-arrow\">LogisticRegression</label><div class=\"sk-toggleable__content\"><pre>LogisticRegression(max_iter=1000, multi_class=&#x27;ovr&#x27;)</pre></div></div></div></div></div>"
            ]
          },
          "metadata": {},
          "execution_count": 652
        }
      ]
    },
    {
      "cell_type": "markdown",
      "metadata": {
        "id": "UmKCq4sVTC4Q"
      },
      "source": [
        "Executa a função de <b>TESTE</b> (predict). O modelo já treinado irá olhar para as amostras de teste e tentará acertar as classes de cada amostra. As predições do modelo são salvas na variável y_predicoes."
      ]
    },
    {
      "cell_type": "code",
      "metadata": {
        "id": "Ekgj6aKq2r5c"
      },
      "source": [
        "y_predicoes_lg = modelo_lg.predict(X_teste)"
      ],
      "execution_count": 653,
      "outputs": []
    },
    {
      "cell_type": "markdown",
      "metadata": {
        "id": "savZDSM5TQDx"
      },
      "source": [
        "Exibe as classes previstas pelo modelo"
      ]
    },
    {
      "cell_type": "code",
      "metadata": {
        "colab": {
          "base_uri": "https://localhost:8080/"
        },
        "id": "4fazlKcS273P",
        "outputId": "ebb27d90-bd68-4eb2-f8f0-ea5b88bd7675"
      },
      "source": [
        "print(y_predicoes_lg)"
      ],
      "execution_count": 654,
      "outputs": [
        {
          "output_type": "stream",
          "name": "stdout",
          "text": [
            "['mesa' 'mesa' 'sofa' 'sofa' 'cadeira' 'sofa' 'sofa' 'mesa' 'cadeira'\n",
            " 'cadeira' 'sofa' 'cadeira' 'cadeira']\n"
          ]
        }
      ]
    },
    {
      "cell_type": "code",
      "source": [
        "print(y_teste)"
      ],
      "metadata": {
        "colab": {
          "base_uri": "https://localhost:8080/"
        },
        "id": "JitmnsvUXMD7",
        "outputId": "54698673-c6ca-45a7-feaf-9088bea595d8"
      },
      "execution_count": 655,
      "outputs": [
        {
          "output_type": "stream",
          "name": "stdout",
          "text": [
            "['sofa' 'mesa' 'sofa' 'sofa' 'sofa' 'sofa' 'sofa' 'mesa' 'cadeira'\n",
            " 'cadeira' 'sofa' 'cadeira' 'cadeira']\n"
          ]
        }
      ]
    },
    {
      "cell_type": "markdown",
      "metadata": {
        "id": "fIT4Jx-BTddI"
      },
      "source": [
        "Exibe a acurácia do modelo ou seja, exibe o percentual de acertos do modelo nas amostras de teste. O modelo confronta as classes de teste com as predições feitas pelo modelo. O percentual exibido é um valor entre 0 e 1. Exemplo: um valor 0.81 corresponde a 81% de acurácia, ou seja, a cada 10 amostras de treino, em 8.1 das amostras o modelo acertou a classe das folhas."
      ]
    },
    {
      "cell_type": "code",
      "metadata": {
        "colab": {
          "base_uri": "https://localhost:8080/"
        },
        "id": "OE0b9Gqe3J6n",
        "outputId": "e246c3b8-2e9b-40ce-81ff-528ec1e2c9c7"
      },
      "source": [
        "accuracy_score(y_teste, y_predicoes_lg)"
      ],
      "execution_count": 656,
      "outputs": [
        {
          "output_type": "execute_result",
          "data": {
            "text/plain": [
              "0.8461538461538461"
            ]
          },
          "metadata": {},
          "execution_count": 656
        }
      ]
    },
    {
      "cell_type": "markdown",
      "metadata": {
        "id": "SBMwDF9Yk46k"
      },
      "source": [
        "Realiza um teste com uma imagem específica. Pegamos apenas uma imagem de teste e vemos como o modelo treinado classificou a imagem. ELE ACERTOU?"
      ]
    },
    {
      "cell_type": "code",
      "metadata": {
        "colab": {
          "base_uri": "https://localhost:8080/",
          "height": 290
        },
        "id": "T3e3P2Ruk-Um",
        "outputId": "c04ddde9-53df-420a-fd34-91f84550e1dc"
      },
      "source": [
        "MOVEIS_TESTE = cv2.imread(\"gdrive/MyDrive/Classroom/imagens/MOVEIS.TESTE/cadeirateste.jpg\")\n",
        "cv2_imshow(MOVEIS_TESTE)\n",
        "MOVEIS_TESTE = MOVEIS_TESTE.reshape(-1)\n",
        "X_teste1 = np.zeros((1, total_características))\n",
        "X_teste1[0] = MOVEIS_TESTE\n",
        "X_teste1 = scaler.transform(X_teste1)\n",
        "pred = modelo_lg.predict(X_teste1)\n",
        "print(pred)"
      ],
      "execution_count": 657,
      "outputs": [
        {
          "output_type": "display_data",
          "data": {
            "text/plain": [
              "<PIL.Image.Image image mode=RGB size=256x256 at 0x7FC19AD85A80>"
            ],
            "image/png": "[encoded data removed]"
          },
          "metadata": {}
        },
        {
          "output_type": "stream",
          "name": "stdout",
          "text": [
            "['sofa']\n"
          ]
        }
      ]
    },
    {
      "cell_type": "markdown",
      "metadata": {
        "id": "88h3re8PYovr"
      },
      "source": [
        "<h1>Modelo com algoritmo de Rede Neural Multilayer Perceptron (Neural Network MLP)</h1>\n",
        "<p>Documentação: https://scikit-learn.org/stable/modules/neural_networks_supervised.html</p>"
      ]
    },
    {
      "cell_type": "markdown",
      "metadata": {
        "id": "CX49tEbwWhHL"
      },
      "source": [
        "Cria um modelo de classificação multi-classes com o algoritmo de Rede Neural Multilayer Perceptron."
      ]
    },
    {
      "cell_type": "code",
      "metadata": {
        "id": "JpwQEgMFYk3C"
      },
      "source": [
        "modelo_nn_mlp = MLPClassifier(solver='lbfgs', alpha=1e-5, hidden_layer_sizes=(4), random_state=1)"
      ],
      "execution_count": 658,
      "outputs": []
    },
    {
      "cell_type": "markdown",
      "metadata": {
        "id": "jomSJ4OpW0jP"
      },
      "source": [
        "Executa a função de treinamento (fit). O modelo é treinado com as amostras e classes de treino."
      ]
    },
    {
      "cell_type": "code",
      "metadata": {
        "colab": {
          "base_uri": "https://localhost:8080/",
          "height": 75
        },
        "id": "dFxINQhsZFOE",
        "outputId": "67712d83-7297-44af-cc90-6873a66da179"
      },
      "source": [
        "modelo_nn_mlp.fit(X_treino, y_treino)"
      ],
      "execution_count": 659,
      "outputs": [
        {
          "output_type": "execute_result",
          "data": {
            "text/plain": [
              "MLPClassifier(alpha=1e-05, hidden_layer_sizes=4, random_state=1, solver='lbfgs')"
            ],
            "text/html": [
              "<style>#sk-container-id-37 {color: black;background-color: white;}#sk-container-id-37 pre{padding: 0;}#sk-container-id-37 div.sk-toggleable {background-color: white;}#sk-container-id-37 label.sk-toggleable__label {cursor: pointer;display: block;width: 100%;margin-bottom: 0;padding: 0.3em;box-sizing: border-box;text-align: center;}#sk-container-id-37 label.sk-toggleable__label-arrow:before {content: \"▸\";float: left;margin-right: 0.25em;color: #696969;}#sk-container-id-37 label.sk-toggleable__label-arrow:hover:before {color: black;}#sk-container-id-37 div.sk-estimator:hover label.sk-toggleable__label-arrow:before {color: black;}#sk-container-id-37 div.sk-toggleable__content {max-height: 0;max-width: 0;overflow: hidden;text-align: left;background-color: #f0f8ff;}#sk-container-id-37 div.sk-toggleable__content pre {margin: 0.2em;color: black;border-radius: 0.25em;background-color: #f0f8ff;}#sk-container-id-37 input.sk-toggleable__control:checked~div.sk-toggleable__content {max-height: 200px;max-width: 100%;overflow: auto;}#sk-container-id-37 input.sk-toggleable__control:checked~label.sk-toggleable__label-arrow:before {content: \"▾\";}#sk-container-id-37 div.sk-estimator input.sk-toggleable__control:checked~label.sk-toggleable__label {background-color: #d4ebff;}#sk-container-id-37 div.sk-label input.sk-toggleable__control:checked~label.sk-toggleable__label {background-color: #d4ebff;}#sk-container-id-37 input.sk-hidden--visually {border: 0;clip: rect(1px 1px 1px 1px);clip: rect(1px, 1px, 1px, 1px);height: 1px;margin: -1px;overflow: hidden;padding: 0;position: absolute;width: 1px;}#sk-container-id-37 div.sk-estimator {font-family: monospace;background-color: #f0f8ff;border: 1px dotted black;border-radius: 0.25em;box-sizing: border-box;margin-bottom: 0.5em;}#sk-container-id-37 div.sk-estimator:hover {background-color: #d4ebff;}#sk-container-id-37 div.sk-parallel-item::after {content: \"\";width: 100%;border-bottom: 1px solid gray;flex-grow: 1;}#sk-container-id-37 div.sk-label:hover label.sk-toggleable__label {background-color: #d4ebff;}#sk-container-id-37 div.sk-serial::before {content: \"\";position: absolute;border-left: 1px solid gray;box-sizing: border-box;top: 0;bottom: 0;left: 50%;z-index: 0;}#sk-container-id-37 div.sk-serial {display: flex;flex-direction: column;align-items: center;background-color: white;padding-right: 0.2em;padding-left: 0.2em;position: relative;}#sk-container-id-37 div.sk-item {position: relative;z-index: 1;}#sk-container-id-37 div.sk-parallel {display: flex;align-items: stretch;justify-content: center;background-color: white;position: relative;}#sk-container-id-37 div.sk-item::before, #sk-container-id-37 div.sk-parallel-item::before {content: \"\";position: absolute;border-left: 1px solid gray;box-sizing: border-box;top: 0;bottom: 0;left: 50%;z-index: -1;}#sk-container-id-37 div.sk-parallel-item {display: flex;flex-direction: column;z-index: 1;position: relative;background-color: white;}#sk-container-id-37 div.sk-parallel-item:first-child::after {align-self: flex-end;width: 50%;}#sk-container-id-37 div.sk-parallel-item:last-child::after {align-self: flex-start;width: 50%;}#sk-container-id-37 div.sk-parallel-item:only-child::after {width: 0;}#sk-container-id-37 div.sk-dashed-wrapped {border: 1px dashed gray;margin: 0 0.4em 0.5em 0.4em;box-sizing: border-box;padding-bottom: 0.4em;background-color: white;}#sk-container-id-37 div.sk-label label {font-family: monospace;font-weight: bold;display: inline-block;line-height: 1.2em;}#sk-container-id-37 div.sk-label-container {text-align: center;}#sk-container-id-37 div.sk-container {/* jupyter's `normalize.less` sets `[hidden] { display: none; }` but bootstrap.min.css set `[hidden] { display: none !important; }` so we also need the `!important` here to be able to override the default hidden behavior on the sphinx rendered scikit-learn.org. See: https://github.com/scikit-learn/scikit-learn/issues/21755 */display: inline-block !important;position: relative;}#sk-container-id-37 div.sk-text-repr-fallback {display: none;}</style><div id=\"sk-container-id-37\" class=\"sk-top-container\"><div class=\"sk-text-repr-fallback\"><pre>MLPClassifier(alpha=1e-05, hidden_layer_sizes=4, random_state=1, solver=&#x27;lbfgs&#x27;)</pre><b>In a Jupyter environment, please rerun this cell to show the HTML representation or trust the notebook. <br />On GitHub, the HTML representation is unable to render, please try loading this page with nbviewer.org.</b></div><div class=\"sk-container\" hidden><div class=\"sk-item\"><div class=\"sk-estimator sk-toggleable\"><input class=\"sk-toggleable__control sk-hidden--visually\" id=\"sk-estimator-id-37\" type=\"checkbox\" checked><label for=\"sk-estimator-id-37\" class=\"sk-toggleable__label sk-toggleable__label-arrow\">MLPClassifier</label><div class=\"sk-toggleable__content\"><pre>MLPClassifier(alpha=1e-05, hidden_layer_sizes=4, random_state=1, solver=&#x27;lbfgs&#x27;)</pre></div></div></div></div></div>"
            ]
          },
          "metadata": {},
          "execution_count": 659
        }
      ]
    },
    {
      "cell_type": "markdown",
      "metadata": {
        "id": "BWQYXQybW-Dm"
      },
      "source": [
        "Executa a função de teste (predict). O modelo já treinado irá olhar para as amostras de teste e tentará acertar as classes de cada amostra. As predições são salvas na variável y_predicoes."
      ]
    },
    {
      "cell_type": "code",
      "metadata": {
        "id": "WaMo0rejZTyu"
      },
      "source": [
        "y_predicoes_mlp = modelo_nn_mlp.predict(X_teste)"
      ],
      "execution_count": 660,
      "outputs": []
    },
    {
      "cell_type": "markdown",
      "metadata": {
        "id": "7eoveqzEXHc6"
      },
      "source": [
        "Exibe as classes inferidas pelo modelo"
      ]
    },
    {
      "cell_type": "code",
      "metadata": {
        "colab": {
          "base_uri": "https://localhost:8080/"
        },
        "id": "IcrumOTiZlOl",
        "outputId": "16439b3c-2d2a-495c-bed1-62ad815e3936"
      },
      "source": [
        "print(y_predicoes_mlp)"
      ],
      "execution_count": 661,
      "outputs": [
        {
          "output_type": "stream",
          "name": "stdout",
          "text": [
            "['mesa' 'cadeira' 'sofa' 'sofa' 'cadeira' 'cadeira' 'cadeira' 'mesa'\n",
            " 'cadeira' 'cadeira' 'cadeira' 'cadeira' 'cadeira']\n"
          ]
        }
      ]
    },
    {
      "cell_type": "markdown",
      "metadata": {
        "id": "z1WZIzRuXPv5"
      },
      "source": [
        "Exibe a acurácia do modelo ou seja, exibe o percentual de acertos do modelo nas amostras de teste. O modelo confronta as classes de teste com as predições feitas pelo modelo. O percentual exibido é um valor entre 0 e 1. Exemplo: um valor 0.81 corresponde a 81% de acurácia, ou seja, a cada 10 amostras de treino, em 8.1 das amostras o modelo acertou a classe das folhas."
      ]
    },
    {
      "cell_type": "code",
      "metadata": {
        "colab": {
          "base_uri": "https://localhost:8080/"
        },
        "id": "cIwCzg32ZnF_",
        "outputId": "db0bb1c0-d51c-4ca1-c249-0b91cbebb912"
      },
      "source": [
        "accuracy_score(y_teste, y_predicoes_mlp)"
      ],
      "execution_count": 662,
      "outputs": [
        {
          "output_type": "execute_result",
          "data": {
            "text/plain": [
              "0.5384615384615384"
            ]
          },
          "metadata": {},
          "execution_count": 662
        }
      ]
    },
    {
      "cell_type": "markdown",
      "source": [
        "Realiza um teste com uma imagem específica. Pegamos apenas uma imagem de teste e vemos como o modelo treinado classificou a imagem. ELE ACERTOU?"
      ],
      "metadata": {
        "id": "XDjOCjuwiSgS"
      }
    },
    {
      "cell_type": "code",
      "source": [
        "total_características = imagem_exemplo.shape[0];\n",
        "print(total_características)"
      ],
      "metadata": {
        "colab": {
          "base_uri": "https://localhost:8080/"
        },
        "id": "79o3V55qViWo",
        "outputId": "80099a59-afb7-4688-8277-580f68097db6"
      },
      "execution_count": 663,
      "outputs": [
        {
          "output_type": "stream",
          "name": "stdout",
          "text": [
            "196608\n"
          ]
        }
      ]
    },
    {
      "cell_type": "markdown",
      "source": [],
      "metadata": {
        "id": "CmGPyqAEVh8R"
      }
    },
    {
      "cell_type": "code",
      "metadata": {
        "colab": {
          "base_uri": "https://localhost:8080/",
          "height": 290
        },
        "id": "cOhmLpHbonAL",
        "outputId": "35632297-4757-4c14-de28-bbba47b78c83"
      },
      "source": [
        "MOVEIS_TESTE = cv2.imread(\"gdrive/MyDrive/Classroom/imagens/MOVEIS/sofa11.jpg\")\n",
        "cv2_imshow(MOVEIS_TESTE)\n",
        "MOVEIS_TESTE = MOVEIS_TESTE.reshape(-1)\n",
        "X_teste1 = np.zeros((1, MOVEIS_TESTE.shape[0]))\n",
        "X_teste1[0] = MOVEIS_TESTE\n",
        "X_teste1 = scaler.transform(X_teste1)\n",
        "pred = modelo_nn_mlp.predict(X_teste1)\n",
        "print(pred)"
      ],
      "execution_count": 664,
      "outputs": [
        {
          "output_type": "display_data",
          "data": {
            "text/plain": [
              "<PIL.Image.Image image mode=RGB size=256x256 at 0x7FC19AFEFF10>"
            ],
            "image/png": "[encoded data removed]"
          },
          "metadata": {}
        },
        {
          "output_type": "stream",
          "name": "stdout",
          "text": [
            "['sofa']\n"
          ]
        }
      ]
    },
    {
      "cell_type": "markdown",
      "metadata": {
        "id": "rkncO6WyZsAc"
      },
      "source": [
        "<h1>Modelo com o algoritmo Floresta aleatória (Random Forest)</h1>\n",
        "<p>Documentação: https://scikit-learn.org/stable/modules/generated/sklearn.ensemble.RandomForestClassifier.html</p>"
      ]
    },
    {
      "cell_type": "code",
      "source": [
        "modelo_rf = RandomForestClassifier(n_estimators=100, random_state=1)"
      ],
      "metadata": {
        "id": "GMATksW6WJ7S"
      },
      "execution_count": 665,
      "outputs": []
    },
    {
      "cell_type": "code",
      "source": [
        "modelo_rf.fit(X_treino, y_treino)"
      ],
      "metadata": {
        "colab": {
          "base_uri": "https://localhost:8080/",
          "height": 75
        },
        "id": "L-Tm3ijyWOBP",
        "outputId": "393bbd1e-c81e-4e59-ece8-718421b520b4"
      },
      "execution_count": 666,
      "outputs": [
        {
          "output_type": "execute_result",
          "data": {
            "text/plain": [
              "RandomForestClassifier(random_state=1)"
            ],
            "text/html": [
              "<style>#sk-container-id-38 {color: black;background-color: white;}#sk-container-id-38 pre{padding: 0;}#sk-container-id-38 div.sk-toggleable {background-color: white;}#sk-container-id-38 label.sk-toggleable__label {cursor: pointer;display: block;width: 100%;margin-bottom: 0;padding: 0.3em;box-sizing: border-box;text-align: center;}#sk-container-id-38 label.sk-toggleable__label-arrow:before {content: \"▸\";float: left;margin-right: 0.25em;color: #696969;}#sk-container-id-38 label.sk-toggleable__label-arrow:hover:before {color: black;}#sk-container-id-38 div.sk-estimator:hover label.sk-toggleable__label-arrow:before {color: black;}#sk-container-id-38 div.sk-toggleable__content {max-height: 0;max-width: 0;overflow: hidden;text-align: left;background-color: #f0f8ff;}#sk-container-id-38 div.sk-toggleable__content pre {margin: 0.2em;color: black;border-radius: 0.25em;background-color: #f0f8ff;}#sk-container-id-38 input.sk-toggleable__control:checked~div.sk-toggleable__content {max-height: 200px;max-width: 100%;overflow: auto;}#sk-container-id-38 input.sk-toggleable__control:checked~label.sk-toggleable__label-arrow:before {content: \"▾\";}#sk-container-id-38 div.sk-estimator input.sk-toggleable__control:checked~label.sk-toggleable__label {background-color: #d4ebff;}#sk-container-id-38 div.sk-label input.sk-toggleable__control:checked~label.sk-toggleable__label {background-color: #d4ebff;}#sk-container-id-38 input.sk-hidden--visually {border: 0;clip: rect(1px 1px 1px 1px);clip: rect(1px, 1px, 1px, 1px);height: 1px;margin: -1px;overflow: hidden;padding: 0;position: absolute;width: 1px;}#sk-container-id-38 div.sk-estimator {font-family: monospace;background-color: #f0f8ff;border: 1px dotted black;border-radius: 0.25em;box-sizing: border-box;margin-bottom: 0.5em;}#sk-container-id-38 div.sk-estimator:hover {background-color: #d4ebff;}#sk-container-id-38 div.sk-parallel-item::after {content: \"\";width: 100%;border-bottom: 1px solid gray;flex-grow: 1;}#sk-container-id-38 div.sk-label:hover label.sk-toggleable__label {background-color: #d4ebff;}#sk-container-id-38 div.sk-serial::before {content: \"\";position: absolute;border-left: 1px solid gray;box-sizing: border-box;top: 0;bottom: 0;left: 50%;z-index: 0;}#sk-container-id-38 div.sk-serial {display: flex;flex-direction: column;align-items: center;background-color: white;padding-right: 0.2em;padding-left: 0.2em;position: relative;}#sk-container-id-38 div.sk-item {position: relative;z-index: 1;}#sk-container-id-38 div.sk-parallel {display: flex;align-items: stretch;justify-content: center;background-color: white;position: relative;}#sk-container-id-38 div.sk-item::before, #sk-container-id-38 div.sk-parallel-item::before {content: \"\";position: absolute;border-left: 1px solid gray;box-sizing: border-box;top: 0;bottom: 0;left: 50%;z-index: -1;}#sk-container-id-38 div.sk-parallel-item {display: flex;flex-direction: column;z-index: 1;position: relative;background-color: white;}#sk-container-id-38 div.sk-parallel-item:first-child::after {align-self: flex-end;width: 50%;}#sk-container-id-38 div.sk-parallel-item:last-child::after {align-self: flex-start;width: 50%;}#sk-container-id-38 div.sk-parallel-item:only-child::after {width: 0;}#sk-container-id-38 div.sk-dashed-wrapped {border: 1px dashed gray;margin: 0 0.4em 0.5em 0.4em;box-sizing: border-box;padding-bottom: 0.4em;background-color: white;}#sk-container-id-38 div.sk-label label {font-family: monospace;font-weight: bold;display: inline-block;line-height: 1.2em;}#sk-container-id-38 div.sk-label-container {text-align: center;}#sk-container-id-38 div.sk-container {/* jupyter's `normalize.less` sets `[hidden] { display: none; }` but bootstrap.min.css set `[hidden] { display: none !important; }` so we also need the `!important` here to be able to override the default hidden behavior on the sphinx rendered scikit-learn.org. See: https://github.com/scikit-learn/scikit-learn/issues/21755 */display: inline-block !important;position: relative;}#sk-container-id-38 div.sk-text-repr-fallback {display: none;}</style><div id=\"sk-container-id-38\" class=\"sk-top-container\"><div class=\"sk-text-repr-fallback\"><pre>RandomForestClassifier(random_state=1)</pre><b>In a Jupyter environment, please rerun this cell to show the HTML representation or trust the notebook. <br />On GitHub, the HTML representation is unable to render, please try loading this page with nbviewer.org.</b></div><div class=\"sk-container\" hidden><div class=\"sk-item\"><div class=\"sk-estimator sk-toggleable\"><input class=\"sk-toggleable__control sk-hidden--visually\" id=\"sk-estimator-id-38\" type=\"checkbox\" checked><label for=\"sk-estimator-id-38\" class=\"sk-toggleable__label sk-toggleable__label-arrow\">RandomForestClassifier</label><div class=\"sk-toggleable__content\"><pre>RandomForestClassifier(random_state=1)</pre></div></div></div></div></div>"
            ]
          },
          "metadata": {},
          "execution_count": 666
        }
      ]
    },
    {
      "cell_type": "code",
      "source": [
        "y_pred = modelo_rf.predict(X_teste)\n"
      ],
      "metadata": {
        "id": "c_zN-GvrWTv_"
      },
      "execution_count": 667,
      "outputs": []
    },
    {
      "cell_type": "code",
      "source": [
        "accuracy_score(y_teste, y_pred)"
      ],
      "metadata": {
        "colab": {
          "base_uri": "https://localhost:8080/"
        },
        "id": "bTdN-NKylnR2",
        "outputId": "58962d75-f980-46df-fd89-a00559f107e6"
      },
      "execution_count": 668,
      "outputs": [
        {
          "output_type": "execute_result",
          "data": {
            "text/plain": [
              "0.9230769230769231"
            ]
          },
          "metadata": {},
          "execution_count": 668
        }
      ]
    },
    {
      "cell_type": "markdown",
      "metadata": {
        "id": "6M2cSrtOaR_q"
      },
      "source": [
        "<b>Insira abaixo as células para treinar e testar um modelo RandomForest. Basicamente, são os mesmos procedimentos realizados no treinamento com os modelos LogisticRegression e MLPClassifier (Rede Neural MLP). Busque ajuda na documentação.</b>"
      ]
    }
  ]
}